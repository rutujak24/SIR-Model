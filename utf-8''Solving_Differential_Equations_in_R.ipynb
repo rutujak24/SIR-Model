{
 "cells": [
  {
   "cell_type": "markdown",
   "metadata": {},
   "source": [
    "# Solving Ordinary Differential Equations in R with deSolve: Example\n",
    "\n",
    "## Contents\n",
    "\n",
    "1. [Population growth: exponential](#exppop)  \n",
    "2. [The ode() function](#ode)  \n",
    "2.1 [ode() inputs](#ode_in)  \n",
    "2.2 [ode() outputs](#ode_out)  \n",
    "3. [Population growth: logistic](#logpop)  \n",
    "4. [Summary](#summary)  \n",
    "5. [Useful programming hints](#tips)  \n",
    "5.1 [Where functions find values associated with names: Scope](#scope)  \n",
    "5.2 [Less cluttered code: with()](#with)\n",
    "6. [Further work: calculate manually](#manual)  \n",
    "  "
   ]
  },
  {
   "cell_type": "code",
   "execution_count": 2,
   "metadata": {
    "attributes": {
     "": "",
     "classes": [],
     "id": ""
    }
   },
   "outputs": [],
   "source": [
    "# If you are working in RStudio, you will need to install if you haven't already:\n",
    "# install.packages(\"ggplot2\")\n",
    "# install.packages(\"deSolve\")\n",
    "\n",
    "# Run the library() function to load these packages\n",
    "library(ggplot2)\n",
    "library(deSolve)\n"
   ]
  },
  {
   "cell_type": "markdown",
   "metadata": {},
   "source": [
    "To model processes such as population growth, or the spread of infection in a population for example, we often consider how the relevant variables change over time. This means we need to look at **differential equations**.\n",
    "\n",
    "## 1. Population growth: exponential<a name=\"exppop\"></a>\n",
    "\n",
    "The variable of interest in this case, is the size of the population: call this $N$.  \n",
    "\n",
    "We want to model $N$ as it changes over time: $dN/dt$.  \n",
    "\n",
    "For a very simple population, growth (especially initially) can be modelled as **exponential**.\n",
    "\n",
    "Imagine a very simple population of bacteria growing in a large flask with good food supply (and removal of waste). As long as each bacterium divides at least once (so one cell becomes two viable daughter cells), the population will grow. In fact the population's growth is proportional to the population size, which we can write down in mathematical terms as<a name=\"expfun\"></a>\n",
    "\n",
    "$$\n",
    "\\frac{dN}{dt} = \\alpha N\n",
    "$$\n",
    "\n",
    "This is an Ordinary Differential Equation, or ODE.\n",
    "\n",
    "We refer to N as a *state variable*; its value represents the state of the system at a given time. $\\alpha$ (alpha) is a *parameter*. \n",
    "\n",
    "Notice here, we're ignoring some of the realistic constraints on population size: for example, the size of the flask, and the amount of food available. For now, we're only looking at the initial population growth, but later we'll bring constraints in as well. \n",
    "\n",
    "You'll now see how to solve this equation using R, for a given value of $\\alpha$. This is a simple example that will help you get familiar with the ODE solvers in R. You will then use these same techniques in the specialisation, when you come to modelling infectious diseases."
   ]
  },
  {
   "cell_type": "markdown",
   "metadata": {},
   "source": [
    "## 2. The ```ode()``` function<a name=\"ode\"></a>\n",
    "\n",
    "To solve the differential equation, you can use a function called ```ode()```, in the ```deSolve``` package.\n",
    "\n",
    "The use of this function looks like this - it takes four inputs which we will define in a moment:"
   ]
  },
  {
   "cell_type": "code",
   "execution_count": null,
   "metadata": {
    "attributes": {
     "": "",
     "classes": [],
     "id": ""
    }
   },
   "outputs": [],
   "source": [
    "require(deSolve)\n",
    "\n",
    "result <- ode(      y = state_vars  # initial state variables: state variables at first timepoint\n",
    "              , times = times       # a vector of timepoints \n",
    "              ,  func = exp_pop_fn  # the differential equation itself, in the form of a function\n",
    "              , parms = parms)      # parameters for the equation in func\n",
    "\n",
    "# Now to see what each input actually is."
   ]
  },
  {
   "cell_type": "markdown",
   "metadata": {},
   "source": [
    "### 2.1 ```ode()``` inputs <a name=\"ode_in\"></a>\n",
    "Each argument ```ode()``` needs is explained in the help file. Run this and look at the first four arguments:"
   ]
  },
  {
   "cell_type": "code",
   "execution_count": null,
   "metadata": {
    "attributes": {
     "": "",
     "classes": [],
     "id": ""
    }
   },
   "outputs": [],
   "source": [
    "?ode"
   ]
  },
  {
   "cell_type": "markdown",
   "metadata": {},
   "source": [
    "(in Jupyter notebooks, this will load the help file in a new browser tab/window)  \n",
    "\n",
    " ```y``` must contain the initial state values. In our simple example, we only have $N$. We start with 1 bacterium, so our initial $N = 1$  \n",
    " ```times```contains the sequence of times for which we want to know the output. The first timepoint is the initial timepoint, corresponding to our initial state values.  \n",
    " ```func``` is our differential equation, defined *as an R function*. The help file shows how to define it yourself. (You can also use pre-defined equations.)  \n",
    " ```parms``` are the parameters for the equation in ```func```.  \n",
    "\n",
    "The ```ode()``` function has a number of other arguments but we don't have to define them all -  ```method```, for example, has a default."
   ]
  },
  {
   "cell_type": "code",
   "execution_count": 2,
   "metadata": {},
   "outputs": [
    {
     "data": {
      "text/html": [
       "<strong>alpha:</strong> 0.693147180559945"
      ],
      "text/latex": [
       "\\textbf{alpha:} 0.693147180559945"
      ],
      "text/markdown": [
       "**alpha:** 0.693147180559945"
      ],
      "text/plain": [
       "    alpha \n",
       "0.6931472 "
      ]
     },
     "metadata": {},
     "output_type": "display_data"
    }
   ],
   "source": [
    "# y\n",
    "state_vars  <- c(N = 1) # a vector with a named element\n",
    "\n",
    "# times\n",
    "times       <- seq(0, 40, by = 0.5) # the shorter the timesteps, the more accurate a solution\n",
    "\n",
    "# func: a function \n",
    "exp_pop_fn <- function(time, state, parameters) { \n",
    "                                      \n",
    "  N <- state['N'] # within this function, the state variables - in this case, just N\n",
    "  \n",
    "  dN <- parameters['alpha'] * N  # alpha is extracted from the 'parameters' argument\n",
    "                                 # this argument gets fed in by the ode() function\n",
    "                                 # specify when running ode()\n",
    "  \n",
    "  return(list(c(dN))) # tell the function what to return: \n",
    "                      # here, we need the calculated dN value, in a list.\n",
    "  \n",
    "  # if you have more than one state variable to calculate\n",
    "  # tell the function to return derivatives in the same order\n",
    "  # as you entered them (in the `state` argument)\n",
    "                      \n",
    "} \n",
    "\n",
    "# Remember that this function is an argument into another function; it doesn't do a lot by itself.\n",
    "# The inputs come from running the ode() function, the output goes back into the ode() function.\n",
    "\n",
    "# parms\n",
    "parms <- c(alpha = log(2)) # alpha has been chosen so the population doubles each timestep\n",
    "\n",
    "parms['alpha'] # you can see \"parms\" is a vector with one named element, alpha.\n",
    "               # this argument 'parms' gets fed, by ode(), into the function that you specify to use as func\n",
    "               # so it needs to contain whatever variables that function is expecting.\n",
    "\n",
    "# For this example:\n",
    "result <- ode(y = state_vars         # contains initial N\n",
    "              , times = times        # the vector of timepoints \n",
    "              , func = exp_pop_fn    # the exponential equation, written as a function\n",
    "              , parms = parms)       # parameters for the exponential equation: here, just alpha\n"
   ]
  },
  {
   "cell_type": "markdown",
   "metadata": {},
   "source": [
    "* Look at the function ```exp_pop_fn()``` defined in the cell above; compare the line ```dN <- parameters['alpha']*N``` to the [equation](#expfun) you've seen above."
   ]
  },
  {
   "cell_type": "markdown",
   "metadata": {},
   "source": [
    "### 2.2 ```ode()``` output<a name=\"ode_out\"></a>\n",
    "Looking at the help file tells you the output value (under the heading \"Value\") is a 'deSolve' object, which as you might tell from the name, is specific to the deSolve package. If we want to do things such as plot the output, it's more straightforward if we turn this into a dataframe. Luckily, the ```as.data.frame()``` function can handle this, and it keeps the names of the columns."
   ]
  },
  {
   "cell_type": "code",
   "execution_count": 3,
   "metadata": {},
   "outputs": [
    {
     "data": {
      "text/html": [
       "<table>\n",
       "<caption>A data.frame: 6 × 2</caption>\n",
       "<thead>\n",
       "\t<tr><th scope=col>time</th><th scope=col>N</th></tr>\n",
       "\t<tr><th scope=col>&lt;dbl&gt;</th><th scope=col>&lt;dbl&gt;</th></tr>\n",
       "</thead>\n",
       "<tbody>\n",
       "\t<tr><td>0.0</td><td>1.000000</td></tr>\n",
       "\t<tr><td>0.5</td><td>1.414216</td></tr>\n",
       "\t<tr><td>1.0</td><td>2.000003</td></tr>\n",
       "\t<tr><td>1.5</td><td>2.828433</td></tr>\n",
       "\t<tr><td>2.0</td><td>4.000009</td></tr>\n",
       "\t<tr><td>2.5</td><td>5.656869</td></tr>\n",
       "</tbody>\n",
       "</table>\n"
      ],
      "text/latex": [
       "A data.frame: 6 × 2\n",
       "\\begin{tabular}{r|ll}\n",
       " time & N\\\\\n",
       " <dbl> & <dbl>\\\\\n",
       "\\hline\n",
       "\t 0.0 & 1.000000\\\\\n",
       "\t 0.5 & 1.414216\\\\\n",
       "\t 1.0 & 2.000003\\\\\n",
       "\t 1.5 & 2.828433\\\\\n",
       "\t 2.0 & 4.000009\\\\\n",
       "\t 2.5 & 5.656869\\\\\n",
       "\\end{tabular}\n"
      ],
      "text/markdown": [
       "\n",
       "A data.frame: 6 × 2\n",
       "\n",
       "| time &lt;dbl&gt; | N &lt;dbl&gt; |\n",
       "|---|---|\n",
       "| 0.0 | 1.000000 |\n",
       "| 0.5 | 1.414216 |\n",
       "| 1.0 | 2.000003 |\n",
       "| 1.5 | 2.828433 |\n",
       "| 2.0 | 4.000009 |\n",
       "| 2.5 | 5.656869 |\n",
       "\n"
      ],
      "text/plain": [
       "  time N       \n",
       "1 0.0  1.000000\n",
       "2 0.5  1.414216\n",
       "3 1.0  2.000003\n",
       "4 1.5  2.828433\n",
       "5 2.0  4.000009\n",
       "6 2.5  5.656869"
      ]
     },
     "metadata": {},
     "output_type": "display_data"
    },
    {
     "data": {
      "image/png": "[encoded data removed]",
      "text/plain": [
       "plot without title"
      ]
     },
     "metadata": {},
     "output_type": "display_data"
    }
   ],
   "source": [
    "head(as.data.frame(result)) # shows the first few lines of the results\n",
    "\n",
    "result <- as.data.frame(result) # turn the output into a data.frame\n",
    "\n",
    "# use ggplot to create a graph of times against the population size N\n",
    "require(ggplot2) # if\n",
    "\n",
    "expplot <- ggplot(data = result)\n",
    "expplot <- expplot + geom_line(aes(x = time, y = N)\n",
    "                               ,  colour = \"blue\")\n",
    "expplot <- expplot + labs(x = \"time (days)\")\n",
    "expplot # shows the graph"
   ]
  },
  {
   "cell_type": "markdown",
   "metadata": {},
   "source": [
    "## 3. More realistic: logistic growth <a name=\"logpop\"></a>\n",
    "\n",
    "Let's make this closer to reality, and take into account the fact that populations cannot increase forever in a limited space with limited resources. In ecology we model this using what is known as a 'carrying capacity', called K. As the population size comes close to K, then the rate of growth slows down. The population equation we want to solve for $dN/dt$ with a carrying capacity $K$ is the **logistic growth** equation:\n",
    "\n",
    "$$\n",
    "\\frac{dN}{dt} = \\alpha N\\left(1 - \\frac{N}{K}\\right)\n",
    "$$\n",
    "\n",
    "We'll need to make this into a suitable function for ```func```:"
   ]
  },
  {
   "cell_type": "code",
   "execution_count": null,
   "metadata": {},
   "outputs": [],
   "source": [
    "logistic_fn <- function(t, state, parameters) { # You'll need a K in the parameters argument\n",
    "\n",
    "        N  <- state['N']  # still our only state variable\n",
    "    \n",
    "        dN <- parameters['alpha'] * N * (1 - (N / parameters['K'])) \n",
    "        # this line represents the differential equation\n",
    "\n",
    "        return(list(c(dN)))\n",
    "\n",
    "        }\n"
   ]
  },
  {
   "cell_type": "markdown",
   "metadata": {},
   "source": [
    "Assign the $K$ parameter, run ode() with your new logistic function, and plot the output:"
   ]
  },
  {
   "cell_type": "code",
   "execution_count": null,
   "metadata": {},
   "outputs": [],
   "source": [
    "parms['K'] <- 1000000 \n",
    "# the vector 'parms' now includes an element named K, assigned the value 1000000 to represent carrying capacity\n",
    "\n",
    "result_K <- ode(    y = state_vars   # still only contains initial N\n",
    "              , times = times        # the vector of timepoints we already have\n",
    "              ,  func = logistic_fn  # the logistic equation function\n",
    "              , parms = parms)       # parms now includes K\n",
    "\n",
    "result_K <- as.data.frame(result_K)\n",
    "\n",
    "#check the output, and plot\n",
    "tail(result_K) # to view the last 6 rows; note that N approaches K\n",
    "\n",
    "logplot <- ggplot(data = result_K)\n",
    "logplot <- logplot + geom_line(aes(x = time, y = N)\n",
    "                               ,  colour = \"blue\")\n",
    "logplot <- logplot + labs(x = \"time (days)\")\n",
    "logplot\n"
   ]
  },
  {
   "cell_type": "markdown",
   "metadata": {},
   "source": [
    "## 4. Summary<a name=\"summary\"></a>\n",
    "\n",
    "So as long as you can:  \n",
    "\n",
    "* express what's happening to a variable by using a differential equation  \n",
    "* identify what the parameters of the equation are\n",
    "* decide what your starting values are for the state variables\n",
    "  \n",
    "you can:  \n",
    "\n",
    "* write a function to represent the differential equation\n",
    "* create (named) vectors or lists to hold the values for the parameters and state variables\n",
    "\n",
    "and then, along with  \n",
    "\n",
    "* an ordered vector of timepoints  \n",
    "  \n",
    "you input these into ```ode()```, to solve your differential equation and output the variable(s) of interest, at each of those timepoints.\n",
    "\n",
    "\n",
    "For a quick introduction to exponential and logistic equations for population growth, visit:\n",
    "<https://www.nature.com/scitable/knowledge/library/how-populations-grow-the-exponential-and-logistic-13240157>\n",
    "\n",
    "For more detailed references on the ```deSolve``` package, try searching for deSolve vignettes\n",
    "<https://cran.r-project.org/web/packages/deSolve/vignettes/deSolve.pdf>"
   ]
  },
  {
   "cell_type": "markdown",
   "metadata": {},
   "source": [
    "## 5. Programming tips and points to remember<a name=\"tips\"></a>  \n",
    "\n",
    "Make use of the ```names``` attributes: either use  \n",
    "    * lists   - refer to elements using ```$```: ```list_name$element_name```  \n",
    "    * vectors - refer to elements using ```[]``` notation: ```vector_name['element_name']```  \n",
    "depending on the situation.\n",
    "\n",
    "Remember that lists can contain a mixture of types and structures, and vectors contain only one data type, as well as the differences in how you reference elements.  \n",
    "\n",
    "Whatever you do, use comments and consistency  \n",
    " - *look back at your code to see if you can understand each part*  \n",
    " "
   ]
  },
  {
   "cell_type": "markdown",
   "metadata": {},
   "source": [
    "### 5.1 Where functions find values associated with names: Scope<a name=\"scope\"></a>  \n",
    "\n",
    "A common source of error when writing functions, especially when there are functions-within-functions, is that you might find that either your function returns an error, or returns a value you didn't expect. This could be due to misnaming of variables or arguments. You might find that following working examples is helpful for avoiding these, but if you want to understand more about where functions find values, read this section.\n",
    "\n",
    "Arguments are given their own names within the *environment*, or the *scope* of the function.\n",
    "You give names to the variables that will contain your arguments, and you tell the function what each argument is, or give them to the function in the order it expects. The function then refers to each argument to the name it has internally.  \n",
    "\n",
    "For an explanation of scope, try the following references:  \n",
    "A general introduction to the concept:   <https://en.wikiversity.org/wiki/Introduction_to_Programming/Scope>\n",
    "\n",
    "How R finds what values are associated with names:  \n",
    "<https://adv-r.hadley.nz/functions.html#lexical-scoping>\n",
    "\n",
    "Also R-specific, more technical:  \n",
    "<https://www.datamentor.io/r-programming/environment-scope/>\n",
    "\n",
    "An explanation using another language, Python:  \n",
    "<https://pythonbasics.org/scope/>\n",
    "\n",
    "This is also taken advantage of if you use ```with()``` "
   ]
  },
  {
   "cell_type": "markdown",
   "metadata": {},
   "source": [
    "### 5.2 Less cluttered code: ```with()```<a name=\"with\"></a>  \n",
    "\n",
    "For more complex functions, you might find your code is getting cluttered or that you have used lots of lines to assign values within the function.\n",
    "\n",
    "* You can make use of ```as.list()``` and ```with()``` so you can write sections of code referring to named elements directly. It's good to note this as an option. Different people will have different preferences as to whether this is used.  \n",
    "\n",
    "The differential equation is more complicated for the logistic function than it was for the exponential function, so one option is to remove the necessity for referring to elements inside vectors and lists with the full notation:  \n",
    "\n",
    "Using ```with()``` and ```as.list()``` means we can refer to all the required elements by their names only:   \n",
    "```as.list()``` tells R to create a list object from what you give it  \n",
    "```with()``` tells R to look \"inside\" the object you give it to find objects you refer to: looking inside the [scope](#scope) of the object.  "
   ]
  },
  {
   "cell_type": "code",
   "execution_count": null,
   "metadata": {},
   "outputs": [],
   "source": [
    "with(as.list(c(state_vars, parms)), {   # give with() a list made of state_vars and parms\n",
    "    print(alpha)                        # to find anything referenced within the curly brackets,\n",
    "    print(N)                            # R looks for names within the object given to with()\n",
    "})  "
   ]
  },
  {
   "cell_type": "markdown",
   "metadata": {},
   "source": [
    "So we can use this to make the function code less cluttered."
   ]
  },
  {
   "cell_type": "code",
   "execution_count": null,
   "metadata": {},
   "outputs": [],
   "source": [
    "# clearer code for the logistic function:\n",
    "\n",
    "logistic_fn <- function(t, state, parameters) { # You'll need a K in the parameters argument\n",
    "\n",
    "    with(as.list(c(state, parameters)), {           \n",
    "        \n",
    "        # you can now just refer to N directly, so no need to assign\n",
    "        \n",
    "        dN <- alpha * N * (1 - (N / K))  # this line represents the differential equation\n",
    "        \n",
    "        return(list(c(dN)))\n",
    "    })\n",
    "\n",
    "        \n",
    "    }\n"
   ]
  },
  {
   "cell_type": "markdown",
   "metadata": {},
   "source": [
    "You may prefer this, or you may prefer to assign your variables within the function - or even continue to refer to them in full. Whatever you do, clarity and consistency will help both you and anyone else who needs to work with your code. "
   ]
  },
  {
   "cell_type": "markdown",
   "metadata": {},
   "source": [
    "## 6. Further work: calculate manually<a name=\"manual\"></a>\n",
    "\n",
    "For simple examples, we can solve the differential equations by hand, and confirm that we get the same results as ```ode()```.\n",
    "For exponential growth:\n",
    "\n",
    "$$\\frac{dN}{dt} = \\alpha N \\quad therefore \\quad N = N_0 e^{\\alpha t} $$"
   ]
  },
  {
   "cell_type": "code",
   "execution_count": null,
   "metadata": {},
   "outputs": [],
   "source": [
    "\n",
    "exp(parms['alpha']) \n",
    "#  alpha was chosen so that at each whole timestep, the population doubles\n",
    "\n",
    "t <- seq(1, 40, by = 1) # vector of times at which to calculate the population size\n",
    "# these don't have to be the same as the timepoints as the ode() output was generated at\n",
    "\n",
    "N_calc <- state_vars['N'] * 2^t # every day, the population doubles\n",
    "\n",
    "# R automatically vectorises this expression, applying it to each element of 't' in turn, to create vector N_calc\n",
    "# N_calc should be the same length as t. Make them into a dataframe\n",
    "pop_df <- data.frame(times = t, N = N_calc)\n",
    "\n",
    "require(ggplot2)\n",
    "expplot  <- expplot + \n",
    "            geom_point(data = pop_df,    # specify different dataframe here\n",
    "                        aes(y = N_calc, x = t)\n",
    "                      , shape = 4\n",
    "                      , size = 2\n",
    "                      , colour = \"red\")  \n",
    "\n",
    "expplot"
   ]
  },
  {
   "cell_type": "markdown",
   "metadata": {},
   "source": [
    "We directly calculate population size at a series of time points, and can see that it fits the curve we generated using ```ode()```."
   ]
  }
 ],
 "metadata": {
  "kernelspec": {
   "display_name": "R",
   "language": "R",
   "name": "ir"
  }
 },
 "nbformat": 4,
 "nbformat_minor": 2
}
