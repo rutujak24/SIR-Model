{
 "cells": [
  {
   "cell_type": "markdown",
   "metadata": {},
   "source": [
    "# Solution: Coding vector control interventions"
   ]
  },
  {
   "cell_type": "markdown",
   "metadata": {},
   "source": [
    "## Intervention 1\n",
    "\n",
    "The part of the code describing the intervention is:"
   ]
  },
  {
   "cell_type": "code",
   "execution_count": null,
   "metadata": {},
   "outputs": [],
   "source": [
    "if (time <= 15){ \n",
    " a = 1\n",
    "} else if (time > 15 & time <= 60){\n",
    " a = 0.25\n",
    "} else if (time > 60) {\n",
    " a = 1    \n",
    "}"
   ]
  },
  {
   "cell_type": "markdown",
   "metadata": {},
   "source": [
    "This **if statement** is defined within the *vbd_model* function, which means that it is executed at every timestep while solving the differential equations.\n",
    "\n",
    "### 1a) Based on the code, what effect does the intervention have on the natural history of the infection and how effective is it at this?   \n",
    "\n",
    "The modelled interventions works by reducing the biting rate $a$ during a given time period (between days 15 and 60). It has a 75% efficacy at reducing the biting rate (from 1 per day to 0.25 per day).\n",
    "\n",
    "### 1b) Give an example of an intervention this might represent and describe in more detail how it is implemented (e.g. when, for how long). \n",
    "\n",
    "This might represent implementation of a personal protective intervention on the population level, e.g. rolling out an insect repellent scheme to all individuals in the modelled community, which would reduce the biting rate on humans. At the beginning of the simulation and until the timestep corresponding to day 15, $a$=1 days$^{-1}$. From the plot we can see that a dengue outbreak has started by that time. At day 15, the insect repellent is distributed and assumed to reduce the biting rate to 0.25 per day. Use of insect repellent is maintained for 45 days, but stops at day 60 so the biting rate increases again to its baseline value.\n",
    "\n",
    "### 1c) Based on the plot, how does the intervention affect the prevalence of infection in humans?\n",
    "\n",
    "Compared to the scenario without intervention, the peak of the dengue outbreak occurs slightly earlier and is lower. However, the output at the later timesteps also shows that as soon as the intervention is no longer in effect, the number of infections in humans starts rising again.\n",
    "\n",
    "### Notes:\n",
    "\n",
    "The dengue vector *Aedes aegypti* is a day-biting mosquito, which makes personal protective interventions like the one modelled here an important method of prevention. However, as always this simple model makes many simplifying assumptions, such as that uptake and compliance to the use of insect repellent is homogenous across the population.\n",
    "\n",
    "Also note that in this exercise we are looking at vector control interventions against dengue infection, but the general principle in the coding is the same for other types of diseases and control measures. The biting rate in this model, which changes as a result of an intervention, is an example of a **time-dependent parameter**. \n",
    "\n",
    "## Intervention 2\n",
    "\n",
    "The part of the code describing the intervention is:"
   ]
  },
  {
   "cell_type": "code",
   "execution_count": null,
   "metadata": {},
   "outputs": [],
   "source": [
    "eventdata <- data.frame(var = c(\"Sv\",\"Iv\"), time = c(15,15),\n",
    "                        value = c(0.5,0.5), method = \"multiply\")\n",
    "\n",
    "output2 <- as.data.frame(ode(y = initial_state_values, \n",
    "                            times = times, \n",
    "                            func = vbd_model,\n",
    "                            parms = parameters,\n",
    "                            events = list(data = eventdata)))"
   ]
  },
  {
   "cell_type": "markdown",
   "metadata": {},
   "source": [
    "### 1a) Based on the code, what effect does the intervention have on the natural history of the infection and how effective is it at this? \n",
    "\n",
    "Here, an **event**, defined in the \"eventdata\" dataframe, is implemented while solving the differential equations (within the *ode()* command). Calling the ?events help file provides an explanation for this:\n",
    "\n",
    "*\"An event occurs when the value of a state variable is suddenly changed, e.g. because a value is added, subtracted, or multiplied. The integration routines cannot deal easily with such state variable changes. Typically these events occur only at specific times. In deSolve, events can be imposed by means of an input data.frame, that specifies at which time and how a certain state variable is altered, or via an event function.\"*\n",
    "\n",
    "The \"eventdata\" dataframe tells us that we are changing the number of susceptible vectors (Sv) and the number of infected vectors (Iv), both at timestep 15. We are multiplying the number in those states at that timepoint by 0.5, which means we are modelling an intervention with 50% efficacy at reducing the vector population in the community.\n",
    "\n",
    "### 1b) Give an example of an intervention this might represent and describe in more detail how it is implemented (e.g. when, for how long). \n",
    "\n",
    "This might represent a fogging intervention, whereby widescale spraying of an insecticide instantly kills a large number of mosquitoes. In the code, this happens 15 days into the simulation, at which point a dengue outbreak has started. In contrast to the continued use of the insect repellent, fogging represents a one-off event in this example.\n",
    "\n",
    "### 1c) Based on the plot, how does the intervention affect the prevalence of infection in humans?\n",
    "\n",
    "The plot shows the abrupt drop in the number of susceptible and infected vectors at day 15, at which point the infection prevalence in humans also starts declining. The peak of the human dengue epidemic is thereby reduced compared to the scenario with no intervention.\n",
    "\n",
    "### Notes: \n",
    "\n",
    "The plot also shows that right after the fogging event, the mosquito population slowly increases again, as new mosquitoes are recruited into the population through maturation of larvae (as defined in the $\\mu_v$ parameter). This is because the mosquito larvae are not killed by fogging."
   ]
  }
 ],
 "metadata": {
  "kernelspec": {
   "display_name": "R",
   "language": "R",
   "name": "ir"
  },
  "language_info": {
   "codemirror_mode": "r",
   "file_extension": ".r",
   "mimetype": "text/x-r-source",
   "name": "R",
   "pygments_lexer": "r",
   "version": "3.5.1"
  }
 },
 "nbformat": 4,
 "nbformat_minor": 2
}
