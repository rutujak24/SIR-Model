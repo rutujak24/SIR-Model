{
 "cells": [
  {
   "cell_type": "markdown",
   "metadata": {},
   "source": [
    "# Solution: Neonatal vaccination to reduce prevalence of an endemic disease in livestock"
   ]
  },
  {
   "cell_type": "markdown",
   "metadata": {},
   "source": [
    "## Setting up the model: \n",
    "\n",
    "The SIR structure needs to be extended to incorporate vaccinated births (going into the R compartment), unvaccinated births (going into the S compartment), deaths, and waning immunity. As we are modelling an endemic infection, the initial conditions for the population don't matter as long as they add up to 300000 according to the instructions (this is because all initial conditions will end up at the same endemic equilibrium, given enough time). For the baseline scenario, we are assuming no vaccine coverage (*p_vacc* = 0) and no waning of immunity ($\\sigma$ = 0). \n",
    "\n",
    "<img src=\"w4_nb4_model_diagram.png\">\n",
    "\n",
    "## Modelling the baseline (no vaccination) assuming permanent immunity:"
   ]
  },
  {
   "cell_type": "code",
   "execution_count": 1,
   "metadata": {},
   "outputs": [
    {
     "name": "stderr",
     "output_type": "stream",
     "text": [
      "Warning message:\n",
      "\"package 'deSolve' was built under R version 3.6.1\"Registered S3 methods overwritten by 'ggplot2':\n",
      "  method         from \n",
      "  [.quosures     rlang\n",
      "  c.quosures     rlang\n",
      "  print.quosures rlang\n"
     ]
    },
    {
     "data": {
      "image/png": "[encoded data removed]",
      "text/plain": [
       "plot without title"
      ]
     },
     "metadata": {},
     "output_type": "display_data"
    }
   ],
   "source": [
    "# LOAD THE PACKAGES:\n",
    "library(deSolve)\n",
    "library(reshape2)\n",
    "library(ggplot2)\n",
    "\n",
    "# MODEL INPUTS:\n",
    "\n",
    "# Vector storing the initial number in each compartment (at timestep 0)\n",
    "\n",
    "N <- 300000\n",
    "\n",
    "initial_state_values <- c(S = 0.5*N,  \n",
    "                          I = 0.05*N,      \n",
    "                          R = 0.45*N)     \n",
    "# the exact proportions here don't matter, we have chosen an infection prevalence of 5% to start with in line with the\n",
    "# information that the disease is thought to be relatively rare in this population. \n",
    "# As described above, any initial conditions will converge on the same endemic equilibrium, given enough time.\n",
    "\n",
    "# Vector storing the parameters describing the transition rates in units of years^-1\n",
    "parameters <- c(beta = 365/1,            # the infection rate\n",
    "                gamma = 365/20,          # the rate of recovery\n",
    "                mu = 1/3,                # the background mortality rate\n",
    "                b = 1/3,                 # the birth rate\n",
    "                p_vacc = 0,              # the neonatal vaccine coverage\n",
    "                sigma = 0)               # the rate at which immunity wanes                   \n",
    "\n",
    "# TIMESTEPS:\n",
    "\n",
    "# Vector storing the sequence of timesteps to solve the model at\n",
    "times <- seq(from = 0, to = 5, by = 1/365)   # from 0 to 5 years in daily intervals\n",
    "# We are simulating over a period of 10 years to allow the model to come to equilibrium. \n",
    "# You might need a different timespan depending on the initial conditions you chose.\n",
    "\n",
    "# SIR MODEL FUNCTION: \n",
    "\n",
    "# The model function takes as input arguments (in the following order): time, state and parameters\n",
    "sir_model <- function(time, state, parameters) {  \n",
    "\n",
    "    with(as.list(c(state, parameters)), {  # tell R to unpack variable names from the state and parameters inputs   \n",
    "        \n",
    "    # Calculating the total population size N (the sum of the number of people in each compartment)\n",
    "      N <- S+I+R\n",
    "      \n",
    "    # Defining lambda as a function of beta and I:\n",
    "      lambda <- beta * I/N\n",
    "        \n",
    "    # The differential equations\n",
    "      dS <- -lambda*S - mu*S + (1-p_vacc)*b*N + sigma*R           \n",
    "      dI <- lambda*S - gamma*I  - mu*I           \n",
    "      dR <- gamma*I - mu*R  + p_vacc*b*N - sigma*R   \n",
    "    \n",
    "    # Because this is a neonatal vaccine (given straight after birth), we model this simply as a proportion p_vacc\n",
    "    # of births entering the R compartment (Recovered/Immune),\n",
    "    # with the remaining births (1-p_vacc) entering the susceptible compartment.\n",
    "      \n",
    "    # Output the number in the S, I and R compartments at each timestep \n",
    "    # (in the same order as the input state variables)\n",
    "    return(list(c(dS, dI, dR))) \n",
    "    })\n",
    "  \n",
    "}\n",
    "\n",
    "# MODEL OUTPUT (solving the differential equations):\n",
    "\n",
    "# Solving the differential equations using the ode integration algorithm\n",
    "output <- as.data.frame(ode(y = initial_state_values, \n",
    "                            times = times, \n",
    "                            func = sir_model,\n",
    "                            parms = parameters))\n",
    "\n",
    "# PLOT\n",
    "\n",
    "output_long <- melt(as.data.frame(output), id = \"time\")                  # turn output dataset into long format\n",
    "\n",
    "# Calculating the proportion in each compartment as a column in the long-format output\n",
    "output_long$proportion <- output_long$value/sum(initial_state_values)\n",
    "\n",
    "# Plot the proportion in the S, I and R compartments over time\n",
    "ggplot(data = output_long,                                               # specify object containing data to plot\n",
    "       aes(x = time, y = proportion, colour = variable, group = variable)) +  # assign columns to axes and groups\n",
    "  geom_line() +                                                          # represent data as lines\n",
    "  xlab(\"Time (years)\")+                                                  # add label for x axis\n",
    "  ylab(\"Prevalence (proportion)\") +                                      # add label for y axis\n",
    "  labs(colour = \"Compartment\",                                           # add legend title  \n",
    "       title = \"Baseline prevalence of susceptible, infected and recovered animals over time\")"
   ]
  },
  {
   "cell_type": "markdown",
   "metadata": {},
   "source": [
    "### What is the endemic prevalence of the disease currently (the baseline prevalence), assuming permanent immunity?"
   ]
  },
  {
   "cell_type": "code",
   "execution_count": 2,
   "metadata": {},
   "outputs": [
    {
     "data": {
      "text/html": [
       "0.0170355800099785"
      ],
      "text/latex": [
       "0.0170355800099785"
      ],
      "text/markdown": [
       "0.0170355800099785"
      ],
      "text/plain": [
       "[1] 0.01703558"
      ]
     },
     "metadata": {},
     "output_type": "display_data"
    }
   ],
   "source": [
    "# The prevalence seems to have stabilised by 2 years:\n",
    "# calculating the prevalence in year 2\n",
    "output_long$proportion[round(output_long$time,0) == 2 & output_long$variable == \"I\"][1]\n",
    "\n",
    "# Note that here we are selecting the proportion infected at timestep 2, \n",
    "# but since the timesteps are not exact numbers, we are selecting the timesteps that, when rounded to 0 decimals,\n",
    "# is and display only the first one of those"
   ]
  },
  {
   "cell_type": "markdown",
   "metadata": {},
   "source": [
    "The baseline prevalence is 1.7%.\n",
    "\n",
    "From the output, we can also get the number in each compartment at endemic equilibrium and use these as the initial conditions in the vaccine model:"
   ]
  },
  {
   "cell_type": "code",
   "execution_count": 3,
   "metadata": {},
   "outputs": [
    {
     "data": {
      "text/html": [
       "<table>\n",
       "<thead><tr><th></th><th scope=col>time</th><th scope=col>S</th><th scope=col>I</th><th scope=col>R</th></tr></thead>\n",
       "<tbody>\n",
       "\t<tr><th scope=row>731</th><td>2       </td><td>15253.83</td><td>5125.043</td><td>279621.1</td></tr>\n",
       "</tbody>\n",
       "</table>\n"
      ],
      "text/latex": [
       "\\begin{tabular}{r|llll}\n",
       "  & time & S & I & R\\\\\n",
       "\\hline\n",
       "\t731 & 2        & 15253.83 & 5125.043 & 279621.1\\\\\n",
       "\\end{tabular}\n"
      ],
      "text/markdown": [
       "\n",
       "| <!--/--> | time | S | I | R |\n",
       "|---|---|---|---|---|\n",
       "| 731 | 2        | 15253.83 | 5125.043 | 279621.1 |\n",
       "\n"
      ],
      "text/plain": [
       "    time S        I        R       \n",
       "731 2    15253.83 5125.043 279621.1"
      ]
     },
     "metadata": {},
     "output_type": "display_data"
    }
   ],
   "source": [
    "output[output$time == 2,]  # print state values at equilibrium"
   ]
  },
  {
   "cell_type": "markdown",
   "metadata": {},
   "source": [
    "## Reducing the prevalence to around 0.85% using the neonatal vaccine, assuming permanent immunity:"
   ]
  },
  {
   "cell_type": "code",
   "execution_count": 4,
   "metadata": {},
   "outputs": [
    {
     "data": {
      "image/png": "[encoded data removed]",
      "text/plain": [
       "plot without title"
      ]
     },
     "metadata": {},
     "output_type": "display_data"
    }
   ],
   "source": [
    "# Before introducing a vaccine, change initial state values to baseline endemic equilibrium\n",
    "initial_state_values <- c(S = 15254,  \n",
    "                          I = 5125,      \n",
    "                          R = 279621)    \n",
    "\n",
    "parameters[\"p_vacc\"] <- 0.5   # try different coverage values to find an endemic prevalence of half the baseline prevalence\n",
    "\n",
    "# MODEL OUTPUT (solving the differential equations):\n",
    "\n",
    "# Solving the differential equations using the ode integration algorithm\n",
    "output <- as.data.frame(ode(y = initial_state_values, \n",
    "                             times = times, \n",
    "                             func = sir_model,\n",
    "                             parms = parameters))\n",
    "\n",
    "output_long <- melt(as.data.frame(output), id = \"time\")                  # turn output dataset into long format\n",
    "\n",
    "# Calculating the proportion in each compartment as a column in the long-format output\n",
    "output_long$proportion <- output_long$value/sum(initial_state_values)\n",
    "\n",
    "# PLOT\n",
    "\n",
    "# Plot the proportion in the I compartment over time: divide the number in I over time by the total population size\n",
    "ggplot(data = output,                                                    # specify object containing data to plot\n",
    "       aes(x = time, y = output$I/N)) +                                  # assign columns to axes and groups\n",
    "  geom_line() +                                                          # represent data as lines\n",
    "  xlab(\"Time (years)\")+                                                  # add label for x axis\n",
    "  ylab(\"Prevalence (proportion)\") +                                      # add label for y axis\n",
    "  labs(colour = \"Compartment\",                                           # add legend title  \n",
    "       title = \"Infection prevalence with neonatal vaccine coverage of 50%\")"
   ]
  },
  {
   "cell_type": "code",
   "execution_count": 5,
   "metadata": {},
   "outputs": [
    {
     "data": {
      "text/html": [
       "0.00805833668900997"
      ],
      "text/latex": [
       "0.00805833668900997"
      ],
      "text/markdown": [
       "0.00805833668900997"
      ],
      "text/plain": [
       "[1] 0.008058337"
      ]
     },
     "metadata": {},
     "output_type": "display_data"
    }
   ],
   "source": [
    "# Calculating the prevalence in year 5 (introduction of the vaccine at first perturbs the initial equilibrium, but\n",
    "# we are interested in the new endemic equilibrium achieved with vaccination)\n",
    "output_long$proportion[round(output_long$time,0) == 5 & output_long$variable == \"I\"][1]"
   ]
  },
  {
   "cell_type": "markdown",
   "metadata": {},
   "source": [
    "### What proportion of newborn animals would you need to vaccinate to reduce the prevalence by half, assuming life-long immunity?\n",
    "\n",
    "If immunity  induced by infection and vaccination is lifelong, we only need to vaccinate around 50% of all newborns to achieve a reduction of the endemic prevalence to less than 0.85%.\n",
    "\n",
    "## Increasing the vaccine coverage to achieve elimination:"
   ]
  },
  {
   "cell_type": "code",
   "execution_count": 6,
   "metadata": {},
   "outputs": [
    {
     "data": {
      "image/png": "[encoded data removed]",
      "text/plain": [
       "plot without title"
      ]
     },
     "metadata": {},
     "output_type": "display_data"
    }
   ],
   "source": [
    "parameters[\"p_vacc\"] <- 0.95   # try different coverage values to see if the disease persists\n",
    "\n",
    "# MODEL OUTPUT (solving the differential equations):\n",
    "\n",
    "# Solving the differential equations using the ode integration algorithm\n",
    "output <- as.data.frame(ode(y = initial_state_values, \n",
    "                             times = times, \n",
    "                             func = sir_model,\n",
    "                             parms = parameters))\n",
    "\n",
    "output_long <- melt(as.data.frame(output), id = \"time\")                  # turn output dataset into long format\n",
    "\n",
    "# Calculating the proportion in each compartment as a column in the long-format output\n",
    "output_long$proportion <- output_long$value/sum(initial_state_values)\n",
    "\n",
    "# PLOT\n",
    "\n",
    "# Plot the proportion in the I compartment over time: divide number in I over time by the total population size\n",
    "ggplot(data = output,                                                    # specify object containing data to plot\n",
    "       aes(x = time, y = output$I/N)) +                                  # assign columns to axes and groups\n",
    "  geom_line() +                                                          # represent data as lines\n",
    "  xlab(\"Time (years)\")+                                                  # add label for x axis\n",
    "  ylab(\"Prevalence (proportion)\") +                                      # add label for y axis\n",
    "  labs(colour = \"Compartment\",                                           # add legend title  \n",
    "       title = \"Infection prevalence with neonatal vaccine coverage of 95%\")"
   ]
  },
  {
   "cell_type": "code",
   "execution_count": 7,
   "metadata": {},
   "outputs": [
    {
     "data": {
      "text/html": [
       "4.90418380388917e-09"
      ],
      "text/latex": [
       "4.90418380388917e-09"
      ],
      "text/markdown": [
       "4.90418380388917e-09"
      ],
      "text/plain": [
       "[1] 4.904184e-09"
      ]
     },
     "metadata": {},
     "output_type": "display_data"
    }
   ],
   "source": [
    "# Double-check how many animals remain infected at the 5 year timestep\n",
    "output[round(output$time,0) == 5,\"I\"][1]"
   ]
  },
  {
   "cell_type": "markdown",
   "metadata": {},
   "source": [
    "### Would it be possible to eliminate the disease from the population using neonatal vaccination under the assumption of lifelong immunity?\n",
    "\n",
    "The model suggests that yes, with a vaccine coverage of 95% or higher, it appears that the disease dies out. We could define elimination as the reduction of prevalence to a certain threshold value. Here, we have simply checked that infection dies out eventually, with a prevalence that tends towards zero over time and less than 1 animal remaining infected at the end of the simulation.\n",
    "\n",
    "## Modelling the baseline prevalence and impact of vaccination assuming immunity with an average duration of 1 year:"
   ]
  },
  {
   "cell_type": "code",
   "execution_count": 8,
   "metadata": {},
   "outputs": [
    {
     "data": {
      "image/png": "[encoded data removed]",
      "text/plain": [
       "plot without title"
      ]
     },
     "metadata": {},
     "output_type": "display_data"
    },
    {
     "data": {
      "image/png": "[encoded data removed]",
      "text/plain": [
       "plot without title"
      ]
     },
     "metadata": {},
     "output_type": "display_data"
    }
   ],
   "source": [
    "# BASELINE SCENARIO WITH WANING IMMUNITY\n",
    "\n",
    "initial_state_values <- c(S = 0.5*N,  \n",
    "                          I = 0.05*N,      \n",
    "                          R = 0.45*N)\n",
    "\n",
    "parameters[\"p_vacc\"] <- 0\n",
    "parameters[\"sigma\"] <- 1\n",
    "\n",
    "waning_baseline <- as.data.frame(ode(y = initial_state_values, \n",
    "                                     times = times, \n",
    "                                     func = sir_model,\n",
    "                                     parms = parameters))\n",
    "\n",
    "waning_baseline_long <- melt(as.data.frame(waning_baseline), id = \"time\")   \n",
    "\n",
    "# Calculating the proportion in each compartment\n",
    "waning_baseline_long$proportion <- waning_baseline_long$value/sum(initial_state_values)\n",
    "\n",
    "# VACCINE SCENARIO WITH WANING IMMUNITY\n",
    "\n",
    "parameters[\"p_vacc\"] <- 0.5\n",
    "parameters[\"sigma\"] <- 1\n",
    "\n",
    "waning_vacc <- as.data.frame(ode(y = initial_state_values, \n",
    "                                     times = times, \n",
    "                                     func = sir_model,\n",
    "                                     parms = parameters))\n",
    "\n",
    "waning_vacc_long <- melt(as.data.frame(waning_vacc), id = \"time\")   \n",
    "\n",
    "# Calculating the proportion in each compartment\n",
    "waning_vacc_long$proportion <- waning_vacc_long$value/sum(initial_state_values)\n",
    "\n",
    "# PLOTTING THE 2 SCENARIOS\n",
    "\n",
    "# Baseline\n",
    "ggplot(data = waning_baseline,                                           # specify object containing data to plot\n",
    "       aes(x = time, y = I/N)) +                                         # assign columns to axes and groups\n",
    "  geom_line() +                                                          # represent data as lines\n",
    "  xlab(\"Time (years)\")+                                                  # add label for x axis\n",
    "  ylab(\"Prevalence (proportion)\") +                                      # add label for y axis\n",
    "  labs(colour = \"Compartment\",                                           # add legend title  \n",
    "       title = \"Baseline prevalence with waning immunity\") +\n",
    "  ylim(c(0,0.4))                                                         # define y axis range to be plotted (0-0.4)\n",
    "\n",
    "# With vaccine\n",
    "ggplot(data = waning_vacc,                                               # specify object containing data to plot\n",
    "       aes(x = time, y = I/N)) +                                         # assign columns to axes and groups\n",
    "  geom_line() +                                                          # represent data as lines\n",
    "  xlab(\"Time (years)\")+                                                  # add label for x axis\n",
    "  ylab(\"Prevalence (proportion)\") +                                      # add label for y axis\n",
    "  labs(colour = \"Compartment\",                                           # add legend title  \n",
    "       title = \"Prevalence with waning immunity and vaccine coverage of 50%\") +\n",
    "  ylim(c(0,0.4))                                                         # define y axis range to be plotted (0-0.4)"
   ]
  },
  {
   "cell_type": "code",
   "execution_count": 9,
   "metadata": {},
   "outputs": [
    {
     "data": {
      "text/html": [
       "0.131705626078585"
      ],
      "text/latex": [
       "0.131705626078585"
      ],
      "text/markdown": [
       "0.131705626078585"
      ],
      "text/plain": [
       "[1] 0.1317056"
      ]
     },
     "metadata": {},
     "output_type": "display_data"
    }
   ],
   "source": [
    "# Calculating the baseline prevalence with waning immunity\n",
    "waning_baseline_prev <- waning_baseline_long$proportion[round(waning_baseline_long$time,0) == 2 & \n",
    "                                                        waning_baseline_long$variable == \"I\"][1]\n",
    "\n",
    "# Calculating the endemic prevalence with waning immunity and neonatal vaccination coverage of 50%\n",
    "waning_vacc_prev <- waning_vacc_long$proportion[round(waning_vacc_long$time,0) == 2 & \n",
    "                                                waning_vacc_long$variable == \"I\"][1]\n",
    "\n",
    "# Calculating the reduction in prevalence achieved with 50% neonatal vaccine coverage:\n",
    "1-waning_vacc_prev/waning_baseline_prev"
   ]
  },
  {
   "cell_type": "markdown",
   "metadata": {},
   "source": [
    "### If the average duration of immunity is only 1 year, how would this impact the proportional reduction in the prevalence with the vaccine coverage you obtained above compared to the baseline? \n",
    "\n",
    "If immunity is not permanent but wanes on average after a duration of 1 year in the recovered compartment, a neonatal vaccine coverage of 50% now only leads to a 13% reduction in disease prevalence compared to baseline, rather than 50%. \n",
    "\n",
    "## Modelling the impact of vaccination with 100% coverage assuming immunity with an average duration of 1 year:"
   ]
  },
  {
   "cell_type": "code",
   "execution_count": 10,
   "metadata": {},
   "outputs": [
    {
     "data": {
      "image/png": "[encoded data removed]",
      "text/plain": [
       "plot without title"
      ]
     },
     "metadata": {},
     "output_type": "display_data"
    }
   ],
   "source": [
    "# VACCINE SCENARIO WITH WANING IMMUNITY: INCREASING COVERAGE TO 100%\n",
    "\n",
    "parameters[\"p_vacc\"] <- 1\n",
    "parameters[\"sigma\"] <- 1\n",
    "\n",
    "waning_vacc <- as.data.frame(ode(y = initial_state_values, \n",
    "                                     times = times, \n",
    "                                     func = sir_model,\n",
    "                                     parms = parameters))\n",
    "\n",
    "# With vaccine\n",
    "ggplot(data = waning_vacc,                                      # specify object containing data to plot\n",
    "       aes(x = time, y = I/N)) +  # assign columns to axes and groups\n",
    "  geom_line() +                                                          # represent data as lines\n",
    "  xlab(\"Time (years)\")+                                                  # add label for x axis\n",
    "  ylab(\"Prevalence (proportion)\") +                                      # add label for y axis\n",
    "  labs(colour = \"Compartment\",                                           # add legend title  \n",
    "       title = \"Prevalence with waning immunity and vaccine coverage of 100%\") +\n",
    "ylim(c(0,0.4))"
   ]
  },
  {
   "cell_type": "markdown",
   "metadata": {},
   "source": [
    "### Would it be possible to eliminate the disease from the population using neonatal vaccination under these assumptions? What minimum vaccine coverage would this require?\n",
    "\n",
    "If immunity only persists for 1 year on average, the model prediction suggests elimination of the disease using neonatal vaccination alone would not be possible. Even with 100% coverage, the prevalence remains at around 5%.\n",
    "\n",
    "## Modelling the baseline prevalence and impact of vaccination with 100% coverage assuming immunity with an average duration of 2.5 years:"
   ]
  },
  {
   "cell_type": "code",
   "execution_count": 11,
   "metadata": {},
   "outputs": [
    {
     "name": "stdout",
     "output_type": "stream",
     "text": [
      "[1] \"Baseline prevalence:\"\n"
     ]
    },
    {
     "data": {
      "text/html": [
       "0.0366648134758358"
      ],
      "text/latex": [
       "0.0366648134758358"
      ],
      "text/markdown": [
       "0.0366648134758358"
      ],
      "text/plain": [
       "[1] 0.03666481"
      ]
     },
     "metadata": {},
     "output_type": "display_data"
    },
    {
     "name": "stdout",
     "output_type": "stream",
     "text": [
      "[1] \"Prevalence with neonatal vaccine coverage of 100%:\"\n"
     ]
    },
    {
     "data": {
      "text/html": [
       "0.0189942022696536"
      ],
      "text/latex": [
       "0.0189942022696536"
      ],
      "text/markdown": [
       "0.0189942022696536"
      ],
      "text/plain": [
       "[1] 0.0189942"
      ]
     },
     "metadata": {},
     "output_type": "display_data"
    }
   ],
   "source": [
    "# BASELINE SCENARIO WITH WANING IMMUNITY\n",
    "\n",
    "parameters[\"p_vacc\"] <- 0\n",
    "parameters[\"sigma\"] <- 1/2.5\n",
    "\n",
    "waning_baseline <- as.data.frame(ode(y = initial_state_values, \n",
    "                                     times = times, \n",
    "                                     func = sir_model,\n",
    "                                     parms = parameters))\n",
    "\n",
    "waning_baseline_long <- melt(as.data.frame(waning_baseline), id = \"time\")   \n",
    "\n",
    "# Calculating the proportion in each compartment\n",
    "waning_baseline_long$proportion <- waning_baseline_long$value/sum(initial_state_values)\n",
    "\n",
    "# VACCINE SCENARIO WITH WANING IMMUNITY\n",
    "\n",
    "parameters[\"p_vacc\"] <- 1\n",
    "parameters[\"sigma\"] <- 1/2.5\n",
    "\n",
    "waning_vacc <- as.data.frame(ode(y = initial_state_values, \n",
    "                                     times = times, \n",
    "                                     func = sir_model,\n",
    "                                     parms = parameters))\n",
    "\n",
    "waning_vacc_long <- melt(as.data.frame(waning_vacc), id = \"time\")   \n",
    "\n",
    "# Calculating the proportion in each compartment\n",
    "waning_vacc_long$proportion <- waning_vacc_long$value/sum(initial_state_values)\n",
    "\n",
    "# Calculating the baseline prevalence with slower waning immunity\n",
    "print(\"Baseline prevalence:\")\n",
    "waning_baseline_long$proportion[round(waning_baseline_long$time,0) == 2 & waning_baseline_long$variable == \"I\"][1]\n",
    "# Calculating the endemic prevalence with slower waning immunity and neonatal vaccination coverage of 100%\n",
    "print(\"Prevalence with neonatal vaccine coverage of 100%:\")\n",
    "waning_vacc_long$proportion[round(waning_vacc_long$time,0) == 2 & waning_vacc_long$variable == \"I\"][1]"
   ]
  },
  {
   "cell_type": "markdown",
   "metadata": {},
   "source": [
    "### If an adjuvant (a vaccine promoter) was given along with the vaccine, that would extend the duration of immunity to 2.5 years on average, what vaccine coverage would be needed to reduce the baseline prevalence by half? Would it be possible to eliminate the disease from the population under these assumptions using neonatal vaccination?\n",
    "\n",
    "If the average duration of immunity was increased to an average of 2.5 years by giving an adjuvant, the baseline prevalence could be reduced to about half (from 3.7% to 1.9%) by achieving a neonatal vaccine coverage of 100%. This means that neonatal vaccination alone is not enough to eliminate the disease from the population as it remains endemic even if every newborn animal is vaccinated. \n",
    "\n",
    "### Based on your results, what overall recommendation would you give to the Minister?\n",
    "\n",
    "The modelling analysis suggests that neonatal vaccination can lead to substantial reductions in endemic prevalence of the disease if recovery and vaccination provide long-term immunity, even if not lifelong. However, the vaccine coverage required to achieve a halving of the endemic prevalence and the impact of the neonatal vaccination in general are strongly dependent on the assumptions we make about waning of immunity. If immunity is only short-term, even perfect coverage of the neonatal vaccine would have limited impact, and elimination of the disease seems only possible if immunity does not wane.\n",
    "\n",
    "Therefore, the modelling results are inconclusive regarding the current prevalence and the impact of neonatal vaccination until further knowledge on the waning or persistence of immunity becomes available. The Minister could consider investing into further research on this. If neonatal vaccination is implemented and immunity is found to wane quickly, addition of an adjuvant could improve the impact of vaccination.\n",
    "\n",
    "### Also provide some information to help the Minister interpret these results. Write down the assumptions in your modelling approach that you think might affect your results. Are there any adaptations you could make to the model structure that would make it more realistic or that would allow you to answer more detailed questions?\n",
    "\n",
    "The results have shown that the conclusions strongly depend on the assumptions we made about the rate of waning of immunity. Other assumptions that might impact our results are for example:\n",
    "- we assume vaccination is applied to a proportion *p_vacc* of births at every timestep, i.e. to all newborns all the time\n",
    "- we assume vaccine-induced immunity and immunity provided by recovery from natural infection confer the same protection and wane at the same time\n",
    "- we assume transmission is independent of age-mixing, but the vaccine is only given to newborns, so its effect might change depending on the rate at which different age groups transmit and acquire infection\n",
    "\n",
    "In future weeks, we will see how to stratify the model into different age groups, to allow for mixing between these groups. We could also investigate the effect these assumptions have on the result by having separate immune compartments and waning rates for those recovered and those vaccinated. We could also give more information on the timescales of this intervention by modelling the baseline case and vaccine introduction chronologically. In this example, we have only modelled the disease with or without the intervention and compared the prevalence at an arbitrarily chosen timepoint after the system has reached equilibrium. It would be more realistic and informative to model introduction of the vaccine at a specific time after the endemic equilibrium has been reached, i.e. by running the model with *p_vacc* = 0 until the current year and changing *p_vacc* for this timestep onwards to represent introduction of the vaccine. This would allow us for example to investigate how long it takes for prevalence to be reduced by half by the vaccine."
   ]
  },
  {
   "cell_type": "markdown",
   "metadata": {},
   "source": [
    "## Take-home message\n",
    "\n",
    "Well done on completing the first specialisation and this challenging etivity! Hopefully you have seen from this exercise that vaccination coverage decisions are affected by a range of population factors, and it can be helpful to see these as different (and sometimes competing) ways of shaping population immunity and susceptibility. Of course, the infection dynamics we see in the real world arise from a combination of many different factors, and the effects of the different susceptibility-shaping mechanisms we covered separately this week might look different when they come together.\n",
    "\n",
    "After learning about the theory of infectious disease dynamics and coding models in R over the past few weeks, this exercise has also given you a first insight into how models can be used in practice to answer public health questions. Model predictions, for example of intervention impact, can vary a lot depending on the assumptions we make about the model structure and the parameter values. But don't worry if you struggled or don't fully understand everything in this etivity yet - in the next weeks, you will learn more about how models can be developed to describe an infection process more realistically, and how they can be linked to data to achieve a more accurate representation of the real world."
   ]
  }
 ],
 "metadata": {
  "kernelspec": {
   "display_name": "R",
   "language": "R",
   "name": "ir"
  },
  "language_info": {
   "codemirror_mode": "r",
   "file_extension": ".r",
   "mimetype": "text/x-r-source",
   "name": "R",
   "pygments_lexer": "r",
   "version": "3.5.1"
  }
 },
 "nbformat": 4,
 "nbformat_minor": 2
}
