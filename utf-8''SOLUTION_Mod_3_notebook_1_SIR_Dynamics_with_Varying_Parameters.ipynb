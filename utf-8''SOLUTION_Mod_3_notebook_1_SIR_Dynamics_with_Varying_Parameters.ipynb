{
 "cells": [
  {
   "cell_type": "markdown",
   "metadata": {},
   "source": [
    "# Solution: SIR dynamics with varying parameters"
   ]
  },
  {
   "cell_type": "markdown",
   "metadata": {},
   "source": [
    "We are modelling a disease where every infectious person infects 1 person on average, every 2 days, and is infectious for 4 days.   \n",
    "\n",
    "$\\beta$ = 1 person/2 days = 0.5 days$^{-1}$  \n",
    "$\\gamma$ = 1/4 = 0.25 days$^{-1}$\n",
    "\n",
    "**Modelling this epidemic for a duration of 100 days:**"
   ]
  },
  {
   "cell_type": "code",
   "execution_count": 1,
   "metadata": {},
   "outputs": [
    {
     "name": "stderr",
     "output_type": "stream",
     "text": [
      "Warning message:\n",
      "\"package 'deSolve' was built under R version 3.6.1\"Registered S3 methods overwritten by 'ggplot2':\n",
      "  method         from \n",
      "  [.quosures     rlang\n",
      "  c.quosures     rlang\n",
      "  print.quosures rlang\n"
     ]
    },
    {
     "data": {
      "image/png": "[encoded data removed]",
      "text/plain": [
       "plot without title"
      ]
     },
     "metadata": {},
     "output_type": "display_data"
    }
   ],
   "source": [
    "# LOAD THE PACKAGES:\n",
    "library(deSolve)\n",
    "library(reshape2)\n",
    "library(ggplot2)\n",
    "\n",
    "# MODEL INPUTS:\n",
    "\n",
    "# Vector storing the initial number of people in each compartment (at timestep 0)\n",
    "initial_state_values <- c(S = 1000000-1,  # the whole population we are modelling is susceptible to infection\n",
    "                          I = 1,          # the epidemic starts with a single infected person\n",
    "                          R = 0)          # there is no prior immunity in the population\n",
    "\n",
    "# Vector storing the parameters describing the transition rates in units of days^-1\n",
    "parameters <- c(beta = 0.5,     # the infection rate, which acts on susceptibles\n",
    "                gamma = 0.25)   # the rate of recovery, which acts on those infected\n",
    "\n",
    "# TIMESTEPS:\n",
    "\n",
    "# Vector storing the sequence of timesteps to solve the model at\n",
    "times <- seq(from = 0, to = 100, by = 1)   # from 0 to 100 days in daily intervals\n",
    "\n",
    "# SIR MODEL FUNCTION: \n",
    "\n",
    "# The model function takes as input arguments (in the following order): time, state and parameters\n",
    "sir_model <- function(time, state, parameters) {  \n",
    "\n",
    "    with(as.list(c(state, parameters)), {   # tell R to unpack variable names from the state and parameters inputs    \n",
    "        \n",
    "    # Calculating the total population size N (the sum of the number of people in each compartment)\n",
    "      N <- S+I+R\n",
    "      \n",
    "    # Defining lambda as a function of beta and I:\n",
    "      lambda <- beta * I/N\n",
    "        \n",
    "    # The differential equations\n",
    "      dS <- -lambda * S               # people move out of (-) the S compartment at a rate lambda (force of infection)\n",
    "      dI <- lambda * S - gamma * I    # people move into (+) the I compartment from S at a rate lambda, \n",
    "                                      # and move out of (-) the I compartment at a rate gamma (recovery)\n",
    "      dR <- gamma * I                 # people move into (+) the R compartment from I at a rate gamma\n",
    "      \n",
    "    # Return the number of people in the S, I and R compartments at each timestep \n",
    "    # (in the same order as the input state variables)\n",
    "    return(list(c(dS, dI, dR))) \n",
    "    })\n",
    "  \n",
    "}\n",
    "\n",
    "# MODEL OUTPUT (solving the differential equations):\n",
    "\n",
    "# Solving the differential equations using the ode integration algorithm\n",
    "output <- as.data.frame(ode(y = initial_state_values, \n",
    "                            times = times, \n",
    "                            func = sir_model,\n",
    "                            parms = parameters))\n",
    "\n",
    "# PLOTTING THE OUTPUT\n",
    "output_long <- melt(as.data.frame(output), id = \"time\")                  # turn output dataset into long format\n",
    "\n",
    "# Adding a column for the proportion of the population in each compartment at each timestep\n",
    "# One way of calculating this is dividing the number in each compartment by the total initial population size\n",
    "# We can do this in this case because our population is closed, so the population size stays the same\n",
    "# at every timestep\n",
    "output_long$proportion <- output_long$value/sum(initial_state_values)\n",
    "\n",
    "# Plot this new column\n",
    "ggplot(data = output_long,                                               # specify object containing data to plot\n",
    "       aes(x = time, y = proportion, colour = variable, group = variable)) +  # assign columns to axes and groups\n",
    "  geom_line() +                                                          # represent data as lines\n",
    "  xlab(\"Time (days)\")+                                                   # add label for x axis\n",
    "  ylab(\"Proportion of the population\") +                                 # add label for y axis\n",
    "  labs(colour = \"Compartment\")                                           # add legend title"
   ]
  },
  {
   "cell_type": "markdown",
   "metadata": {},
   "source": [
    "### What do you observe when $\\beta$ = 0.5 and $\\gamma$ = 0.25?\n",
    "\n",
    "An epidemic occurs, reaching a peak 56 days after introduction of the first infectious case, at which point about 15% of the population are infected. By the end of the epidemic, about 80% of the population have been infected and recovered.\n",
    "\n",
    "**Modelling a scenario where *beta* drops to 0.1 because an infection control measure is introduced:**"
   ]
  },
  {
   "cell_type": "code",
   "execution_count": 2,
   "metadata": {},
   "outputs": [
    {
     "data": {
      "image/png": "[encoded data removed]",
      "text/plain": [
       "plot without title"
      ]
     },
     "metadata": {},
     "output_type": "display_data"
    }
   ],
   "source": [
    "# Vector storing the parameters describing the transition rates in units of days^-1\n",
    "parameters <- c(beta = 0.1,      # the infection rate\n",
    "                gamma = 0.25)    # the rate of recovery, which acts on those infected\n",
    "\n",
    "# Solving the differential equations using the ode integration algorithm\n",
    "output <- as.data.frame(ode(y = initial_state_values, \n",
    "                            times = times, \n",
    "                            func = sir_model,\n",
    "                            parms = parameters))\n",
    "\n",
    "# PLOTTING THE OUTPUT\n",
    "output_long <- melt(as.data.frame(output), id = \"time\")                  # turn output dataset into long format\n",
    "\n",
    "# Calculating the proportion in each compartment\n",
    "output_long$proportion <- output_long$value/sum(initial_state_values)\n",
    "\n",
    "ggplot(data = output_long,                                               # specify object containing data to plot\n",
    "       aes(x = time, y = proportion, colour = variable, group = variable)) +  # assign columns to axes and groups\n",
    "  geom_line() +                                                          # represent data as lines\n",
    "  xlab(\"Time (days)\")+                                                   # add label for x axis\n",
    "  ylab(\"Proportion of the population\") +                                 # add label for y axis\n",
    "  labs(colour = \"Compartment\")                                           # add legend title"
   ]
  },
  {
   "cell_type": "markdown",
   "metadata": {},
   "source": [
    "### What do you observe when $\\beta$ is reduced to 0.1 instead, with $\\gamma$ remaining at 0.25?\n",
    "\n",
    "Under this set of conditions, no epidemic occurs - the number of infected people does not increase following the introduction of a first infectious case.\n",
    "\n",
    "### Assuming $\\beta$ equals 0.1, what value of $\\gamma$ do you need in order to get an epidemic? In real life, what could give rise to this change in $\\gamma$?\n",
    "\n",
    "With $\\gamma$ around 0.09 or lower, we start to see a small epidemic if we run the model for long enough (ca. 1000 days). Different mechanisms can lead to such a decrease in the recovery rate, corresponding to an increase of the average infectious period, for example strain evolution of the infectious agent or changes in social behaviour.\n",
    "\n",
    "### Based on your answers to the previous question, can you think of a condition involving $\\beta$ and $\\gamma$ that is necessary for an epidemic? Test this condition using your code above. \n",
    "\n",
    "For an epidemic to happen, the ratio $\\beta$/$\\gamma$ has to be greater than 1. In other words, to give rise to an epidemic, infectious people have to be **infectious enough** ($\\beta$ has to be high enough) for **long enough** ($\\gamma$ has to be low enough) to pass on the pathogen - $\\beta$ has to be higher than $\\gamma$. Because of the relationship between these two parameters, a low infection rate can still lead an epidemic if infected people are infectious for long enough, as you modelled in the previous question."
   ]
  },
  {
   "cell_type": "code",
   "execution_count": null,
   "metadata": {},
   "outputs": [],
   "source": []
  }
 ],
 "metadata": {
  "kernelspec": {
   "display_name": "R",
   "language": "R",
   "name": "ir"
  },
  "language_info": {
   "codemirror_mode": "r",
   "file_extension": ".r",
   "mimetype": "text/x-r-source",
   "name": "R",
   "pygments_lexer": "r",
   "version": "3.5.1"
  }
 },
 "nbformat": 4,
 "nbformat_minor": 2
}
