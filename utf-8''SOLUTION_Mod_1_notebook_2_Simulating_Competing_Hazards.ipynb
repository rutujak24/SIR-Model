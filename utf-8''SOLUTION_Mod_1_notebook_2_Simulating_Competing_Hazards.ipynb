{
 "cells": [
  {
   "cell_type": "markdown",
   "metadata": {},
   "source": [
    "# Solution: Simulating competing hazards"
   ]
  },
  {
   "cell_type": "markdown",
   "metadata": {},
   "source": [
    "The model we want to specify in this etivity has 3 compartments: $I$ (infected), $R$ (recovered) and $M$ (dead). Like in the first etivity, infected people can recover at a rate $\\gamma$. Additionally they can also now die (transition to the $M$ compartment) at a rate $\\mu$.\n",
    "\n",
    "The differential equations for this model look like this:\n",
    "\\begin{align}\n",
    "\\frac{dI}{dt} & = -\\gamma I -\\mu I \\\\\n",
    "\\frac{dR}{dt} & = \\gamma I \\\\\n",
    "\\frac{dM}{dt} & = \\mu I\n",
    "\\end{align}\n",
    "\n",
    "This corresponds to the following model diagram:\n",
    "\n",
    "<img src=\"../Graphics_and_Data/w1_etivity2_model_diagram.png\">\n",
    "\n",
    "As you can see, the equation describing the rate of change in the recovered ($R$) compartment (second line) is not affected by this addition. However, we need a new equation describing the rate of change in the deceased ($M$) compartment (third line). People move into this compartment from the infected compartment ($I$) at a rate $\\mu$ - this transition also needs to be added in the rate of change in the infected compartment $I$ (first line). \n",
    "\n",
    "The **model function** describing this set of differential equations looks like this:"
   ]
  },
  {
   "cell_type": "code",
   "execution_count": null,
   "metadata": {},
   "outputs": [],
   "source": [
    "# As always, the model function takes as input arguments\n",
    "# (in the following order): time, state and parameters\n",
    "\n",
    "cohort_model <- function(time, state, parameters) {  \n",
    "\n",
    "    with(as.list(c(state, parameters)), {  # tell R to unpack the state\n",
    "                                           # variable names (I, R and M)\n",
    "                                           # and model parameters \n",
    "                                           # (gamma and mu) from the inputs\n",
    "                                           # \"state\" and \"parameters\"\n",
    "        \n",
    "    # The differential equations\n",
    "      dI <- -gamma * I - mu * I  # included -mu * I\n",
    "      dR <- gamma * I            # no change\n",
    "      dM <- mu * I               # a new line to describe the rate of \n",
    "                                 # change in the M compartment\n",
    "      \n",
    "    # Return the number of people in each compartment at each\n",
    "    # timestep (in the same order as the input state variables)\n",
    "    return(list(c(dI, dR, dM))) \n",
    "    })\n",
    "  \n",
    "}"
   ]
  },
  {
   "cell_type": "markdown",
   "metadata": {},
   "source": [
    "**Defining model input and timesteps**"
   ]
  },
  {
   "cell_type": "code",
   "execution_count": null,
   "metadata": {},
   "outputs": [],
   "source": [
    "initial_state_values <- c(I = 1000000,   # at the start, there are 10^6 \n",
    "                                         # infected people\n",
    "                          R = 0,         # no one has recovered\n",
    "                          M = 0)         # no one has died \n",
    "\n",
    "parameters <- c(gamma = 0.1,       # the recovery rate gamma is 0.1 days^-1\n",
    "                mu = 0.2)          # the mortality rate mu is 0.2 days^-1\n",
    "\n",
    "times <- seq(from = 0, to = 4*7, by = 1) # model the course of the\n",
    "                                         # infection over 4 weeks = 4*7 days\n",
    "\n",
    "# remember that the rates are in units of days^-1"
   ]
  },
  {
   "cell_type": "markdown",
   "metadata": {},
   "source": [
    "### After 4 weeks, do you expect more people to have recovered or more people to have died, and why? \n",
    "\n",
    "We expect more people to die than to recover because the mortality rate (0.2) is higher than the recovery rate (0.1), so people move more quickly from $I$ to $M$ than from $I$ to $R$."
   ]
  },
  {
   "cell_type": "markdown",
   "metadata": {},
   "source": [
    "Load the deSolve package and use it to solve the differential equations:"
   ]
  },
  {
   "cell_type": "code",
   "execution_count": null,
   "metadata": {},
   "outputs": [],
   "source": [
    "library(deSolve)\n",
    "library(reshape2)\n",
    "library(ggplot2)\n",
    "\n",
    "output <- as.data.frame(ode(y = initial_state_values, \n",
    "                            times = times, \n",
    "                            func = cohort_model,\n",
    "                            parms = parameters))"
   ]
  },
  {
   "cell_type": "markdown",
   "metadata": {},
   "source": [
    "Plotting the output over time indeed shows that more people have indeed died than recovered:"
   ]
  },
  {
   "cell_type": "code",
   "execution_count": null,
   "metadata": {},
   "outputs": [],
   "source": [
    "output_long <- melt(as.data.frame(output), id = \"time\")     \n",
    "\n",
    "ggplot(data = output_long,   # specify object containing data to plot\n",
    "       aes(x = time, \n",
    "           y = value, \n",
    "           colour = variable, \n",
    "           group = variable)) +       # assign columns to axes and groups\n",
    "  geom_line() +                       # represent data as lines\n",
    "  xlab(\"Time (days)\")+                # add label for x axis\n",
    "  ylab(\"Number of people\") +          # add label for y axis\n",
    "  labs(colour = \"Compartment\")        # add legend title\n",
    "\n",
    "# ggplot automatically adds the new compartment as a separate colour/group \n",
    "# because it is contained within the output dataframe"
   ]
  },
  {
   "cell_type": "markdown",
   "metadata": {},
   "source": [
    "### Based on the model output, what proportion of the initially infected cohort died before recovering over the 4 week period?"
   ]
  },
  {
   "cell_type": "code",
   "execution_count": null,
   "metadata": {},
   "outputs": [],
   "source": [
    "# Printing the full model output:\n",
    "output"
   ]
  },
  {
   "cell_type": "code",
   "execution_count": null,
   "metadata": {},
   "outputs": [],
   "source": [
    "# Printing the output at timestep/day 28:\n",
    "output[output$time == 28,]\n",
    "\n",
    "# Divide the number of people who died over the 4 week period by the \n",
    "# number of people initially infected:\n",
    "output[29,\"M\"]/1000000\n",
    "# Answer: proportion = 0.6665"
   ]
  },
  {
   "cell_type": "markdown",
   "metadata": {},
   "source": [
    "### Now use the competing hazards formula given in the video lecture to calculate the case fatality rate. Does this agree with your answer to the previous question?\n",
    "\n",
    "The formula is: \n",
    "\\begin{align}\n",
    "CFR = \\frac{\\mu}{\\mu+\\gamma} \n",
    "\\end{align}"
   ]
  },
  {
   "cell_type": "code",
   "execution_count": null,
   "metadata": {},
   "outputs": [],
   "source": [
    "# Calculate this by referring to the values in the parameters vector:\n",
    "parameters[\"mu\"]/(parameters[\"mu\"]+parameters[\"gamma\"])\n",
    "# Answer: CFR = 0.6667\n",
    "# This is approximately the same as the case fatality rate\n",
    "# observed in the model output. The agreement would be exact\n",
    "# if we allowed the simulation to run for longer."
   ]
  },
  {
   "cell_type": "markdown",
   "metadata": {},
   "source": [
    "### Which value of $\\mu$ do you need to get a case fatality rate of 50% assuming $\\gamma$ stays fixed? \n",
    "\n",
    "Rearranging the CFR equation above to solve for $\\mu$ gives:\n",
    "\n",
    "\\begin{align}\n",
    "CFR = \\frac{\\mu}{\\mu+\\gamma} \\\\\n",
    "\\mu = CFR(\\mu+\\gamma) \\\\\n",
    "\\mu = \\mu CFR + \\gamma CFR \\\\\n",
    "\\mu - \\mu CFR = \\gamma CFR \\\\\n",
    "\\mu(1-CFR) = \\gamma CFR \\\\\n",
    "\\mu = \\frac{\\gamma CFR}{1-CFR}\n",
    "\\end{align}\n",
    "\n",
    "Calculating $\\mu$ with CFR = 0.50 and $\\gamma$ = 0.1:\n",
    "\n",
    "\\begin{align}\n",
    "\\mu = \\frac{0.1 * 0.50}{1-0.50} \\\\\n",
    "\\mu = 0.1\n",
    "\\end{align}\n",
    "\n",
    "This makes sense! If $\\mu$ and $\\gamma$ are equal, then they represent two competing hazards that are also equal. Thus, half of people die and half recover, so the case fatality rate is 50%.\n",
    "\n",
    "Double-check this by modifying the code to simulate the model using these parameters:"
   ]
  },
  {
   "cell_type": "code",
   "execution_count": null,
   "metadata": {},
   "outputs": [],
   "source": [
    "# The only thing we are changing is mu, so we only need to update\n",
    "# the parameters vector and solve the model with this\n",
    "parameters <- c(gamma = 0.1, mu = 0.1)\n",
    "\n",
    "output <- as.data.frame(ode(y = initial_state_values, \n",
    "                            times = times, \n",
    "                            func = cohort_model,\n",
    "                            parms = parameters))\n",
    "\n",
    "# Calculate the case fatality rate:\n",
    "output[29,\"M\"]/1000000\n",
    "\n",
    "# This indeed gives us approximately 0.50"
   ]
  },
  {
   "cell_type": "markdown",
   "metadata": {},
   "source": [
    "Again we can plot the output and compare it with what we got with our previous parameters:"
   ]
  },
  {
   "cell_type": "code",
   "execution_count": null,
   "metadata": {},
   "outputs": [],
   "source": [
    "output_long <- melt(as.data.frame(output), id = \"time\")     \n",
    "\n",
    "ggplot(data = output_long,         # specify object containing data to plot\n",
    "       aes(x = time, \n",
    "           y = value, \n",
    "           colour = variable, \n",
    "           group = variable)) +         # assign columns to axes and groups\n",
    "  geom_line() +                         # represent data as lines\n",
    "  xlab(\"Time (days)\")+                  # add label for x axis\n",
    "  ylab(\"Number of people\") +            # add label for y axis\n",
    "  labs(colour = \"Compartment\")          # add legend title              "
   ]
  },
  {
   "cell_type": "markdown",
   "metadata": {},
   "source": [
    "As you notice, we only see red and blue lines here representing the number of people in the $I$ and $M$ compartment, despite having plotted all 3 compartments. This is just because, with $\\mu$ = $\\gamma$ and $R(0) = M(0)$ (the initial number recovered and deceased), the number of recovered and deceased people is identical at each timestep so the lines completely overlap."
   ]
  },
  {
   "cell_type": "code",
   "execution_count": null,
   "metadata": {},
   "outputs": [],
   "source": []
  }
 ],
 "metadata": {
  "kernelspec": {
   "display_name": "R",
   "language": "R",
   "name": "ir"
  },
  "language_info": {
   "codemirror_mode": "r",
   "file_extension": ".r",
   "mimetype": "text/x-r-source",
   "name": "R",
   "pygments_lexer": "r",
   "version": "3.5.1"
  }
 },
 "nbformat": 4,
 "nbformat_minor": 2
}
