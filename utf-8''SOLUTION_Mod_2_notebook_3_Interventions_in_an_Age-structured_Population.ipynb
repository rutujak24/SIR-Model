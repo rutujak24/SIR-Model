{
 "cells": [
  {
   "cell_type": "markdown",
   "metadata": {},
   "source": [
    "# Solution: Interventions in an age-structured population"
   ]
  },
  {
   "cell_type": "markdown",
   "metadata": {},
   "source": [
    "Loading the model code from the previous etivity:"
   ]
  },
  {
   "cell_type": "code",
   "execution_count": 1,
   "metadata": {},
   "outputs": [
    {
     "name": "stderr",
     "output_type": "stream",
     "text": [
      "Loading required package: deSolve\n",
      "Loading required package: reshape2\n",
      "Loading required package: ggplot2\n"
     ]
    }
   ],
   "source": [
    "# PACKAGES\n",
    "require(deSolve)\n",
    "require(reshape2)\n",
    "require(ggplot2)\n",
    "\n",
    "# INPUT\n",
    "\n",
    "# Set up an empty contact matrix with rows for each age group and columns for each age group\n",
    "contact_matrix <- matrix(0,nrow=3,ncol=3)\n",
    "# Fill in the contract matrix\n",
    "contact_matrix[1,1] = 7     # daily number of contacts that children make with each other\n",
    "contact_matrix[1,2] = 5     # daily number of contacts that children make with adults\n",
    "contact_matrix[1,3] = 1     # daily number of contacts that children make with the elderly\n",
    "contact_matrix[2,1] = 2     # daily number of contacts that adults make with children\n",
    "contact_matrix[2,2] = 9     # daily number of contacts that adults make with each other\n",
    "contact_matrix[2,3] = 1     # daily number of contacts that adults make with the elderly\n",
    "contact_matrix[3,1] = 1     # daily number of contacts that elderly people make with children\n",
    "contact_matrix[3,2] = 3     # daily number of contacts that elderly people make with adults\n",
    "contact_matrix[3,3] = 2     # daily number of contacts that elderly people make with each other\n",
    "# The contact_matrix now looks exactly like the one in the etivity instructions. We add this matrix as a parameter below.\n",
    "\n",
    "# Parameters\n",
    "parameters <- c(b = 0.05,     # the probability of infection per contact is 5%\n",
    "                contact_matrix = contact_matrix,   # the age-specific average number of daily contacts (defined above)\n",
    "                gamma = 1/5)  # the rate of recovery is 1/5 per day\n",
    "\n",
    "# Run simulation for 3 months\n",
    "times <- seq(from = 0, to = 90, by = 0.1)\n",
    "\n",
    "# MODEL FUNCTION\n",
    "sir_age_model <- function(time, state, parameters) {  \n",
    "  \n",
    "  with(as.list(parameters), {\n",
    "    \n",
    "    n_agegroups <- 3                                 # number of age groups\n",
    "    S <- state[1:n_agegroups]                        # assign to S the first 3 numbers in the initial_state_values vector\n",
    "    I <- state[(n_agegroups+1):(2*n_agegroups)]      # assign to I numbers 4 to 6 in the initial_state_values vector\n",
    "    R <- state[(2*n_agegroups+1):(3*n_agegroups)]    # assign to R numbers 7 to 9 in the initial_state_values vector\n",
    "      \n",
    "    N <- S+I+R     # people in S, I and R are added separately by age group, so N is also a vector of length 3\n",
    "    \n",
    "    # Defining the force of infection\n",
    "      \n",
    "    # Force of infection acting on susceptible children\n",
    "    lambda <- b * contact_matrix %*% as.matrix(I/N) \n",
    "    # %*% is used to multiply matrices in R\n",
    "    # the lambda vector contains the forces of infection for children, adults and the elderly (length 3)\n",
    "\n",
    "    # The differential equations\n",
    "    # Rate of change in children:\n",
    "    dS <- -lambda * S             \n",
    "    dI <- lambda * S - gamma * I\n",
    "    dR <- gamma * I\n",
    "    \n",
    "    # Output\n",
    "    return(list(c(dS, dI, dR))) \n",
    "  })\n",
    "}"
   ]
  },
  {
   "cell_type": "markdown",
   "metadata": {},
   "source": [
    "## Modelling vaccination scenarios\n",
    "\n",
    "### If you can only give the vaccine to one of the 3 age groups, which one would you prioritise to minimise the number of infections in the elderly? Would this also be the best strategy to reduce the overall number of infections in the population?"
   ]
  },
  {
   "cell_type": "code",
   "execution_count": 2,
   "metadata": {},
   "outputs": [
    {
     "name": "stdout",
     "output_type": "stream",
     "text": [
      "  child_cum_inc adult_cum_inc elderly_cum_inc total_cum_inc\n",
      "1             0      572797.7        92941.04      665738.7\n"
     ]
    }
   ],
   "source": [
    "# 1) Vaccinating only children\n",
    "# There are more doses of vaccine than children in the population, so the vaccine coverage will be 100% in children\n",
    "# and 0% in the other groups as per the question\n",
    "\n",
    "vacc_cov1 <- 1                  # vaccine coverage in children\n",
    "vacc_cov2 <- 0                  # vaccine coverage in adults\n",
    "vacc_cov3 <- 0                  # vaccine coverage in the elderly\n",
    "\n",
    "vacc_eff3 <- 0.5                # vaccine efficacy in the elderly (100% in the other age groups)\n",
    "\n",
    "# Effective vaccine coverage for each age group:\n",
    "p1 <- vacc_cov1\n",
    "p2 <- vacc_cov2\n",
    "p3 <- vacc_cov3 * vacc_eff3\n",
    "\n",
    "# Population size in total and for each age group:\n",
    "N <- 1000000\n",
    "N1 <- 0.2*N\n",
    "N2 <- 0.65*N\n",
    "N3 <- 0.15*N\n",
    "\n",
    "# Fill in initial state values for a naive population based on effective vaccine coverage:\n",
    "initial_state_values <- c(S1 = N1-p1*N1,\n",
    "                          S2 = N2-p2*N2,  \n",
    "                          S3 = N3-p3*N3,\n",
    "                          I1 = 1,        # the outbreak starts with 1 infected person (can be of either age) \n",
    "                          I2 = 0,\n",
    "                          I3 = 0,\n",
    "                          R1 = p1*N1,\n",
    "                          R2 = p2*N2,   \n",
    "                          R3 = p3*N3)\n",
    "\n",
    "# Run model output\n",
    "output <- as.data.frame(ode(y = initial_state_values, \n",
    "                                       times = times, \n",
    "                                       func = sir_age_model,\n",
    "                                       parms = parameters))\n",
    "\n",
    "# Calculate cumulative incidence in each age group:\n",
    "results1 <- data.frame(child_cum_inc = output$S1[1]-output$S1[nrow(output)],\n",
    "                       adult_cum_inc = output$S2[1]-output$S2[nrow(output)], \n",
    "                       elderly_cum_inc =  output$S3[1]-output$S3[nrow(output)],\n",
    "                       total_cum_inc = sum(output[1,c(\"S1\", \"S2\", \"S3\")])-sum(output[nrow(output),c(\"S1\", \"S2\", \"S3\")]))\n",
    "print(results1)"
   ]
  },
  {
   "cell_type": "markdown",
   "metadata": {},
   "source": [
    "Giving all available vaccine doses to children would prevent all infections in children, but still result in 92,941 infections in the elderly, and a total number of infections of 665,739 by the end of the epidemic.\n",
    "\n",
    "Let's compare this with the output when giving all the vaccine doses to adults or the elderly instead:"
   ]
  },
  {
   "cell_type": "code",
   "execution_count": 3,
   "metadata": {},
   "outputs": [
    {
     "name": "stdout",
     "output_type": "stream",
     "text": [
      "  child_cum_inc adult_cum_inc elderly_cum_inc total_cum_inc\n",
      "1           0.0      572797.7        92941.04      665738.7\n",
      "2      181263.6      332793.4        89262.62      603319.6\n",
      "3      188970.3      603879.1        50022.62      842872.0\n"
     ]
    }
   ],
   "source": [
    "# 2) Vaccinating only adults\n",
    "# Vaccine coverage in adults = 250,000/650,000\n",
    "# 0% in the other groups as per the question\n",
    "\n",
    "vacc_cov1 <- 0                  # vaccine coverage in children\n",
    "vacc_cov2 <- 0.38               # vaccine coverage in adults\n",
    "vacc_cov3 <- 0                  # vaccine coverage in the elderly\n",
    "\n",
    "vacc_eff3 <- 0.5                # vaccine efficacy in the elderly (100% in the other age groups)\n",
    "\n",
    "# Effective vaccine coverage for each age group:\n",
    "p1 <- vacc_cov1\n",
    "p2 <- vacc_cov2\n",
    "p3 <- vacc_cov3 * vacc_eff3\n",
    "\n",
    "# Population size in total and for each age group:\n",
    "N <- 1000000\n",
    "N1 <- 0.2*N\n",
    "N2 <- 0.65*N\n",
    "N3 <- 0.15*N\n",
    "\n",
    "# Fill in initial state values for a naive population based on effective vaccine coverage:\n",
    "initial_state_values <- c(S1 = N1-p1*N1,\n",
    "                          S2 = N2-p2*N2,  \n",
    "                          S3 = N3-p3*N3,\n",
    "                          I1 = 1,        # the outbreak starts with 1 infected person (can be of either age) \n",
    "                          I2 = 0,\n",
    "                          I3 = 0,\n",
    "                          R1 = p1*N1,\n",
    "                          R2 = p2*N2,   \n",
    "                          R3 = p3*N3)\n",
    "\n",
    "# Run model output\n",
    "output <- as.data.frame(ode(y = initial_state_values, \n",
    "                                       times = times, \n",
    "                                       func = sir_age_model,\n",
    "                                       parms = parameters))\n",
    "\n",
    "# Calculate cumulative incidence in each age group:\n",
    "results2 <- data.frame(child_cum_inc = output$S1[1]-output$S1[nrow(output)],\n",
    "                       adult_cum_inc = output$S2[1]-output$S2[nrow(output)], \n",
    "                       elderly_cum_inc =  output$S3[1]-output$S3[nrow(output)],\n",
    "                       total_cum_inc = sum(output[1,c(\"S1\", \"S2\", \"S3\")])-sum(output[nrow(output),c(\"S1\", \"S2\", \"S3\")]))\n",
    "\n",
    "# 3) Vaccinating only elderly people\n",
    "# There are more doses of vaccine than elderly people in the population, so the vaccine coverage will be 100% \n",
    "# 0% in the other groups as per the question\n",
    "\n",
    "vacc_cov1 <- 0                  # vaccine coverage in children\n",
    "vacc_cov2 <- 0                  # vaccine coverage in adults\n",
    "vacc_cov3 <- 1                  # vaccine coverage in the elderly\n",
    "\n",
    "vacc_eff3 <- 0.5                # vaccine efficacy in the elderly (100% in the other age groups)\n",
    "\n",
    "# Effective vaccine coverage for each age group:\n",
    "p1 <- vacc_cov1\n",
    "p2 <- vacc_cov2\n",
    "p3 <- vacc_cov3 * vacc_eff3\n",
    "\n",
    "# Population size in total and for each age group:\n",
    "N <- 1000000\n",
    "N1 <- 0.2*N\n",
    "N2 <- 0.65*N\n",
    "N3 <- 0.15*N\n",
    "\n",
    "# Fill in initial state values for a naive population based on effective vaccine coverage:\n",
    "initial_state_values <- c(S1 = N1-p1*N1,\n",
    "                          S2 = N2-p2*N2,  \n",
    "                          S3 = N3-p3*N3,\n",
    "                          I1 = 1,        # the outbreak starts with 1 infected person (can be of either age) \n",
    "                          I2 = 0,\n",
    "                          I3 = 0,\n",
    "                          R1 = p1*N1,\n",
    "                          R2 = p2*N2,   \n",
    "                          R3 = p3*N3)\n",
    "\n",
    "# Run model output\n",
    "output <- as.data.frame(ode(y = initial_state_values, \n",
    "                                       times = times, \n",
    "                                       func = sir_age_model,\n",
    "                                       parms = parameters))\n",
    "\n",
    "# Calculate cumulative incidence in each age group:\n",
    "results3 <- data.frame(child_cum_inc = output$S1[1]-output$S1[nrow(output)],\n",
    "                       adult_cum_inc = output$S2[1]-output$S2[nrow(output)], \n",
    "                       elderly_cum_inc =  output$S3[1]-output$S3[nrow(output)],\n",
    "                       total_cum_inc = sum(output[1,c(\"S1\", \"S2\", \"S3\")])-sum(output[nrow(output),c(\"S1\", \"S2\", \"S3\")]))\n",
    "\n",
    "print(rbind(results1, results2, results3))"
   ]
  },
  {
   "cell_type": "markdown",
   "metadata": {},
   "source": [
    "The cumulative incidence in the elderly is lowest if we only vaccinate everyone in the elderly age group (only 50,023 infections), despite the low vaccine efficacy in this age group! However, with this strategy we also get a substantially larger total number of infections than if vaccinating only children or only adults (842,872 infections vs. 665,739 and 603,320 respectively).\n",
    "\n",
    "The worst strategy for the given question would be to only vaccinate children, since this neither minimises the number of infections in the elderly nor in total.\n",
    "\n",
    "### If you distribute the vaccine doses among the 3 age groups in proportion to their population size, which group would benefit the most in terms of the percentage reduction in the cumulative incidence achieved with vaccination? Is the reduction in the total number on infections in the elderly what you would expect given the lower vaccine efficacy in this age group?\n",
    "\n",
    "First, we need to calculate the baseline prevalence without vaccination, then the model the vaccine scenario:"
   ]
  },
  {
   "cell_type": "code",
   "execution_count": 4,
   "metadata": {},
   "outputs": [
    {
     "name": "stdout",
     "output_type": "stream",
     "text": [
      "  child_cum_inc adult_cum_inc elderly_cum_inc total_cum_inc\n",
      "1      190215.4      609095.5        109311.1      908621.9\n",
      "  child_cum_inc adult_cum_inc elderly_cum_inc total_cum_inc\n",
      "1        130785      412563.8        77407.67      620756.4\n"
     ]
    }
   ],
   "source": [
    "# Baseline prevalence (no vaccine)\n",
    "\n",
    "vacc_cov1 <- 0                  # vaccine coverage in children\n",
    "vacc_cov2 <- 0                  # vaccine coverage in adults\n",
    "vacc_cov3 <- 0                  # vaccine coverage in the elderly\n",
    "\n",
    "vacc_eff3 <- 0.5                # vaccine efficacy in the elderly (100% in the other age groups)\n",
    "\n",
    "# Effective vaccine coverage for each age group:\n",
    "p1 <- vacc_cov1\n",
    "p2 <- vacc_cov2\n",
    "p3 <- vacc_cov3 * vacc_eff3\n",
    "\n",
    "# Population size in total and for each age group:\n",
    "N <- 1000000\n",
    "N1 <- 0.2*N\n",
    "N2 <- 0.65*N\n",
    "N3 <- 0.15*N\n",
    "\n",
    "# Fill in initial state values for a naive population based on effective vaccine coverage:\n",
    "initial_state_values <- c(S1 = N1-p1*N1,\n",
    "                          S2 = N2-p2*N2,  \n",
    "                          S3 = N3-p3*N3,\n",
    "                          I1 = 1,        # the outbreak starts with 1 infected person (can be of either age) \n",
    "                          I2 = 0,\n",
    "                          I3 = 0,\n",
    "                          R1 = p1*N1,\n",
    "                          R2 = p2*N2,   \n",
    "                          R3 = p3*N3)\n",
    "\n",
    "# Run model output\n",
    "output <- as.data.frame(ode(y = initial_state_values, \n",
    "                                       times = times, \n",
    "                                       func = sir_age_model,\n",
    "                                       parms = parameters))\n",
    "\n",
    "# Calculate cumulative incidence in each age group:\n",
    "baseline_results <- data.frame(child_cum_inc = output$S1[1]-output$S1[nrow(output)],\n",
    "                               adult_cum_inc = output$S2[1]-output$S2[nrow(output)], \n",
    "                               elderly_cum_inc =  output$S3[1]-output$S3[nrow(output)],\n",
    "                               total_cum_inc = sum(output[1,c(\"S1\", \"S2\", \"S3\")])-\n",
    "                                                 sum(output[nrow(output),c(\"S1\", \"S2\", \"S3\")]))\n",
    "\n",
    "# Distributing vaccine doses among age groups proportionally to population size\n",
    "# 250,000 doses/1 million = 25% coverage in each age group\n",
    "\n",
    "vacc_cov1 <- 0.25                  # vaccine coverage in children\n",
    "vacc_cov2 <- 0.25                  # vaccine coverage in adults\n",
    "vacc_cov3 <- 0.25                  # vaccine coverage in the elderly\n",
    "\n",
    "vacc_eff3 <- 0.5                # vaccine efficacy in the elderly (100% in the other age groups)\n",
    "\n",
    "# Effective vaccine coverage for each age group:\n",
    "p1 <- vacc_cov1\n",
    "p2 <- vacc_cov2\n",
    "p3 <- vacc_cov3 * vacc_eff3\n",
    "\n",
    "# Population size in total and for each age group:\n",
    "N <- 1000000\n",
    "N1 <- 0.2*N\n",
    "N2 <- 0.65*N\n",
    "N3 <- 0.15*N\n",
    "\n",
    "# Fill in initial state values for a naive population based on effective vaccine coverage:\n",
    "initial_state_values <- c(S1 = N1-p1*N1,\n",
    "                          S2 = N2-p2*N2,  \n",
    "                          S3 = N3-p3*N3,\n",
    "                          I1 = 1,        # the outbreak starts with 1 infected person (can be of either age) \n",
    "                          I2 = 0,\n",
    "                          I3 = 0,\n",
    "                          R1 = p1*N1,\n",
    "                          R2 = p2*N2,   \n",
    "                          R3 = p3*N3)\n",
    "\n",
    "# Run model output\n",
    "output <- as.data.frame(ode(y = initial_state_values, \n",
    "                                       times = times, \n",
    "                                       func = sir_age_model,\n",
    "                                       parms = parameters))\n",
    "\n",
    "# Calculate cumulative incidence in each age group:\n",
    "results4 <- data.frame(child_cum_inc = output$S1[1]-output$S1[nrow(output)],\n",
    "                       adult_cum_inc = output$S2[1]-output$S2[nrow(output)], \n",
    "                       elderly_cum_inc =  output$S3[1]-output$S3[nrow(output)],\n",
    "                       total_cum_inc = sum(output[1,c(\"S1\", \"S2\", \"S3\")])-sum(output[nrow(output),c(\"S1\", \"S2\", \"S3\")]))\n",
    "\n",
    "print(baseline_results)\n",
    "print(results4)"
   ]
  },
  {
   "cell_type": "code",
   "execution_count": 5,
   "metadata": {},
   "outputs": [
    {
     "data": {
      "text/html": [
       "<table>\n",
       "<thead><tr><th scope=col>child_cum_inc</th><th scope=col>adult_cum_inc</th><th scope=col>elderly_cum_inc</th><th scope=col>total_cum_inc</th></tr></thead>\n",
       "<tbody>\n",
       "\t<tr><td>0.3124374</td><td>0.3226615</td><td>0.2918589</td><td>0.3168155</td></tr>\n",
       "</tbody>\n",
       "</table>\n"
      ],
      "text/latex": [
       "\\begin{tabular}{r|llll}\n",
       " child\\_cum\\_inc & adult\\_cum\\_inc & elderly\\_cum\\_inc & total\\_cum\\_inc\\\\\n",
       "\\hline\n",
       "\t 0.3124374 & 0.3226615 & 0.2918589 & 0.3168155\\\\\n",
       "\\end{tabular}\n"
      ],
      "text/markdown": [
       "\n",
       "| child_cum_inc | adult_cum_inc | elderly_cum_inc | total_cum_inc |\n",
       "|---|---|---|---|\n",
       "| 0.3124374 | 0.3226615 | 0.2918589 | 0.3168155 |\n",
       "\n"
      ],
      "text/plain": [
       "  child_cum_inc adult_cum_inc elderly_cum_inc total_cum_inc\n",
       "1 0.3124374     0.3226615     0.2918589       0.3168155    "
      ]
     },
     "metadata": {},
     "output_type": "display_data"
    }
   ],
   "source": [
    "# Reduction in prevalence achieved with vaccination:\n",
    "(baseline_results-results4)/baseline_results"
   ]
  },
  {
   "cell_type": "markdown",
   "metadata": {},
   "source": [
    "Actually, the percentage reduction in prevalence achieved with this vaccination strategy is very similar across the 3 age groups! It is slightly higher in children and adults than in the elderly; the vaccine reduces the cumulative incidence in children and adults by 31-32%, compared to a 29% reduction in the elderly. \n",
    "\n",
    "At first glance, it might seem counterintuitive that the reduction in incidence in the elderly is nearly as high as for children and adults, despite the vaccine efficacy and therefore the effective vaccine coverage being only half that of the other age groups. However, it makes sense when looking at the contact matrix:"
   ]
  },
  {
   "cell_type": "code",
   "execution_count": 6,
   "metadata": {},
   "outputs": [
    {
     "name": "stdout",
     "output_type": "stream",
     "text": [
      "     [,1] [,2] [,3]\n",
      "[1,]    7    5    1\n",
      "[2,]    2    9    1\n",
      "[3,]    1    3    2\n"
     ]
    }
   ],
   "source": [
    "print(contact_matrix)"
   ]
  },
  {
   "cell_type": "markdown",
   "metadata": {},
   "source": [
    "On average, elderly people in this population make more contacts with children and adults (1+3) than with other elderly people (2) per day, which is why they benefit from a lower proportion of infected children and adults achieved with vaccination as well. "
   ]
  }
 ],
 "metadata": {
  "kernelspec": {
   "display_name": "R",
   "language": "R",
   "name": "ir"
  },
  "language_info": {
   "codemirror_mode": "r",
   "file_extension": ".r",
   "mimetype": "text/x-r-source",
   "name": "R",
   "pygments_lexer": "r",
   "version": "3.5.1"
  }
 },
 "nbformat": 4,
 "nbformat_minor": 2
}
